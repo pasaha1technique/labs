{
 "cells": [
  {
   "cell_type": "code",
   "execution_count": 1,
   "metadata": {},
   "outputs": [],
   "source": [
    "import pandas as pd\n",
    "import tensorflow as tf\n",
    "from tensorflow.keras import Sequential\n",
    "from tensorflow.keras.layers import Dense\n",
    "\n",
    "import numpy as np\n",
    "import json\n",
    "\n",
    "from sklearn.model_selection import train_test_split\n",
    "from sklearn.utils import shuffle\n",
    "from google.cloud import bigquery\n",
    "from witwidget.notebook.visualization import WitWidget, WitConfigBuilder"
   ]
  },
  {
   "cell_type": "code",
   "execution_count": 2,
   "metadata": {},
   "outputs": [
    {
     "data": {
      "text/html": [
       "<div>\n",
       "<style scoped>\n",
       "    .dataframe tbody tr th:only-of-type {\n",
       "        vertical-align: middle;\n",
       "    }\n",
       "\n",
       "    .dataframe tbody tr th {\n",
       "        vertical-align: top;\n",
       "    }\n",
       "\n",
       "    .dataframe thead th {\n",
       "        text-align: right;\n",
       "    }\n",
       "</style>\n",
       "<table border=\"1\" class=\"dataframe\">\n",
       "  <thead>\n",
       "    <tr style=\"text-align: right;\">\n",
       "      <th></th>\n",
       "      <th>weight_pounds</th>\n",
       "      <th>is_male</th>\n",
       "      <th>mother_age</th>\n",
       "      <th>plurality</th>\n",
       "      <th>gestation_weeks</th>\n",
       "    </tr>\n",
       "  </thead>\n",
       "  <tbody>\n",
       "    <tr>\n",
       "      <th>0</th>\n",
       "      <td>7.568469</td>\n",
       "      <td>True</td>\n",
       "      <td>22</td>\n",
       "      <td>1</td>\n",
       "      <td>46.0</td>\n",
       "    </tr>\n",
       "    <tr>\n",
       "      <th>1</th>\n",
       "      <td>8.807467</td>\n",
       "      <td>True</td>\n",
       "      <td>39</td>\n",
       "      <td>1</td>\n",
       "      <td>42.0</td>\n",
       "    </tr>\n",
       "    <tr>\n",
       "      <th>2</th>\n",
       "      <td>8.313632</td>\n",
       "      <td>True</td>\n",
       "      <td>23</td>\n",
       "      <td>1</td>\n",
       "      <td>35.0</td>\n",
       "    </tr>\n",
       "    <tr>\n",
       "      <th>3</th>\n",
       "      <td>8.000575</td>\n",
       "      <td>False</td>\n",
       "      <td>27</td>\n",
       "      <td>1</td>\n",
       "      <td>40.0</td>\n",
       "    </tr>\n",
       "    <tr>\n",
       "      <th>4</th>\n",
       "      <td>6.563162</td>\n",
       "      <td>False</td>\n",
       "      <td>29</td>\n",
       "      <td>1</td>\n",
       "      <td>39.0</td>\n",
       "    </tr>\n",
       "  </tbody>\n",
       "</table>\n",
       "</div>"
      ],
      "text/plain": [
       "   weight_pounds  is_male  mother_age  plurality  gestation_weeks\n",
       "0       7.568469     True          22          1             46.0\n",
       "1       8.807467     True          39          1             42.0\n",
       "2       8.313632     True          23          1             35.0\n",
       "3       8.000575    False          27          1             40.0\n",
       "4       6.563162    False          29          1             39.0"
      ]
     },
     "execution_count": 2,
     "metadata": {},
     "output_type": "execute_result"
    }
   ],
   "source": [
    "query=\"\"\"\n",
    "SELECT\n",
    "  weight_pounds,\n",
    "  is_male,\n",
    "  mother_age,\n",
    "  plurality,\n",
    "  gestation_weeks\n",
    "FROM\n",
    "  publicdata.samples.natality\n",
    "WHERE year > 2000\n",
    "LIMIT 10000\n",
    "\"\"\"\n",
    "df = bigquery.Client().query(query).to_dataframe()\n",
    "df.head()"
   ]
  },
  {
   "cell_type": "code",
   "execution_count": 3,
   "metadata": {},
   "outputs": [
    {
     "data": {
      "text/html": [
       "<div>\n",
       "<style scoped>\n",
       "    .dataframe tbody tr th:only-of-type {\n",
       "        vertical-align: middle;\n",
       "    }\n",
       "\n",
       "    .dataframe tbody tr th {\n",
       "        vertical-align: top;\n",
       "    }\n",
       "\n",
       "    .dataframe thead th {\n",
       "        text-align: right;\n",
       "    }\n",
       "</style>\n",
       "<table border=\"1\" class=\"dataframe\">\n",
       "  <thead>\n",
       "    <tr style=\"text-align: right;\">\n",
       "      <th></th>\n",
       "      <th>weight_pounds</th>\n",
       "      <th>mother_age</th>\n",
       "      <th>plurality</th>\n",
       "      <th>gestation_weeks</th>\n",
       "    </tr>\n",
       "  </thead>\n",
       "  <tbody>\n",
       "    <tr>\n",
       "      <th>count</th>\n",
       "      <td>9991.000000</td>\n",
       "      <td>10000.000000</td>\n",
       "      <td>10000.000000</td>\n",
       "      <td>9888.000000</td>\n",
       "    </tr>\n",
       "    <tr>\n",
       "      <th>mean</th>\n",
       "      <td>7.278609</td>\n",
       "      <td>27.365300</td>\n",
       "      <td>1.030300</td>\n",
       "      <td>38.681634</td>\n",
       "    </tr>\n",
       "    <tr>\n",
       "      <th>std</th>\n",
       "      <td>1.354406</td>\n",
       "      <td>6.235699</td>\n",
       "      <td>0.183808</td>\n",
       "      <td>2.622498</td>\n",
       "    </tr>\n",
       "    <tr>\n",
       "      <th>min</th>\n",
       "      <td>0.500449</td>\n",
       "      <td>12.000000</td>\n",
       "      <td>1.000000</td>\n",
       "      <td>19.000000</td>\n",
       "    </tr>\n",
       "    <tr>\n",
       "      <th>25%</th>\n",
       "      <td>6.624891</td>\n",
       "      <td>22.000000</td>\n",
       "      <td>1.000000</td>\n",
       "      <td>38.000000</td>\n",
       "    </tr>\n",
       "    <tr>\n",
       "      <th>50%</th>\n",
       "      <td>7.374463</td>\n",
       "      <td>27.000000</td>\n",
       "      <td>1.000000</td>\n",
       "      <td>39.000000</td>\n",
       "    </tr>\n",
       "    <tr>\n",
       "      <th>75%</th>\n",
       "      <td>8.124034</td>\n",
       "      <td>32.000000</td>\n",
       "      <td>1.000000</td>\n",
       "      <td>40.000000</td>\n",
       "    </tr>\n",
       "    <tr>\n",
       "      <th>max</th>\n",
       "      <td>12.936726</td>\n",
       "      <td>51.000000</td>\n",
       "      <td>4.000000</td>\n",
       "      <td>47.000000</td>\n",
       "    </tr>\n",
       "  </tbody>\n",
       "</table>\n",
       "</div>"
      ],
      "text/plain": [
       "       weight_pounds    mother_age     plurality  gestation_weeks\n",
       "count    9991.000000  10000.000000  10000.000000      9888.000000\n",
       "mean        7.278609     27.365300      1.030300        38.681634\n",
       "std         1.354406      6.235699      0.183808         2.622498\n",
       "min         0.500449     12.000000      1.000000        19.000000\n",
       "25%         6.624891     22.000000      1.000000        38.000000\n",
       "50%         7.374463     27.000000      1.000000        39.000000\n",
       "75%         8.124034     32.000000      1.000000        40.000000\n",
       "max        12.936726     51.000000      4.000000        47.000000"
      ]
     },
     "execution_count": 3,
     "metadata": {},
     "output_type": "execute_result"
    }
   ],
   "source": [
    "df.describe()\n"
   ]
  },
  {
   "cell_type": "code",
   "execution_count": 4,
   "metadata": {},
   "outputs": [
    {
     "data": {
      "text/plain": [
       "True     5190\n",
       "False    4810\n",
       "Name: is_male, dtype: int64"
      ]
     },
     "execution_count": 4,
     "metadata": {},
     "output_type": "execute_result"
    }
   ],
   "source": [
    "df['is_male'].value_counts()\n"
   ]
  },
  {
   "cell_type": "code",
   "execution_count": 5,
   "metadata": {},
   "outputs": [],
   "source": [
    "df = df.dropna()\n",
    "df = shuffle(df, random_state=2)"
   ]
  },
  {
   "cell_type": "code",
   "execution_count": 6,
   "metadata": {},
   "outputs": [],
   "source": [
    "labels = df['weight_pounds']\n",
    "data = df.drop(columns=['weight_pounds'])\n",
    "data['is_male'] = data['is_male'].astype(int)"
   ]
  },
  {
   "cell_type": "code",
   "execution_count": 7,
   "metadata": {},
   "outputs": [],
   "source": [
    "x,y = data,labels\n",
    "x_train,x_test,y_train,y_test = train_test_split(x,y)"
   ]
  },
  {
   "cell_type": "code",
   "execution_count": 8,
   "metadata": {},
   "outputs": [],
   "source": [
    "model = Sequential([\n",
    "    Dense(64, activation='relu', input_shape=(len(x_train.iloc[0]),)),\n",
    "    Dense(32, activation='relu'),\n",
    "    Dense(1)]\n",
    ")\n",
    "\n"
   ]
  },
  {
   "cell_type": "code",
   "execution_count": 9,
   "metadata": {},
   "outputs": [],
   "source": [
    "model.compile(optimizer=tf.keras.optimizers.RMSprop(),\n",
    "              loss=tf.keras.losses.MeanSquaredError(),\n",
    "              metrics=['mae', 'mse'])"
   ]
  },
  {
   "cell_type": "code",
   "execution_count": 10,
   "metadata": {},
   "outputs": [
    {
     "name": "stdout",
     "output_type": "stream",
     "text": [
      "Epoch 1/10\n",
      "209/209 [==============================] - 1s 4ms/step - loss: 7.6477 - mae: 1.5230 - mse: 7.6477 - val_loss: 1.2228 - val_mae: 0.8488 - val_mse: 1.2228\n",
      "Epoch 2/10\n",
      "209/209 [==============================] - 1s 3ms/step - loss: 1.3933 - mae: 0.9204 - mse: 1.3933 - val_loss: 1.3028 - val_mae: 0.8790 - val_mse: 1.3028\n",
      "Epoch 3/10\n",
      "209/209 [==============================] - 1s 3ms/step - loss: 1.3567 - mae: 0.9054 - mse: 1.3567 - val_loss: 1.4337 - val_mae: 0.9323 - val_mse: 1.4337\n",
      "Epoch 4/10\n",
      "209/209 [==============================] - 1s 5ms/step - loss: 1.3192 - mae: 0.8906 - mse: 1.3192 - val_loss: 1.2429 - val_mae: 0.8601 - val_mse: 1.2429\n",
      "Epoch 5/10\n",
      "209/209 [==============================] - 1s 3ms/step - loss: 1.3102 - mae: 0.8885 - mse: 1.3102 - val_loss: 1.3416 - val_mae: 0.8998 - val_mse: 1.3416\n",
      "Epoch 6/10\n",
      "209/209 [==============================] - 2s 8ms/step - loss: 1.2845 - mae: 0.8815 - mse: 1.2845 - val_loss: 1.3078 - val_mae: 0.8832 - val_mse: 1.3078\n",
      "Epoch 7/10\n",
      "209/209 [==============================] - 1s 3ms/step - loss: 1.2730 - mae: 0.8778 - mse: 1.2730 - val_loss: 1.4132 - val_mae: 0.9289 - val_mse: 1.4132\n",
      "Epoch 8/10\n",
      "209/209 [==============================] - 1s 4ms/step - loss: 1.2620 - mae: 0.8723 - mse: 1.2620 - val_loss: 1.2022 - val_mae: 0.8382 - val_mse: 1.2022\n",
      "Epoch 9/10\n",
      "209/209 [==============================] - 1s 5ms/step - loss: 1.2568 - mae: 0.8703 - mse: 1.2568 - val_loss: 1.4599 - val_mae: 0.9459 - val_mse: 1.4599\n",
      "Epoch 10/10\n",
      "209/209 [==============================] - 1s 3ms/step - loss: 1.2451 - mae: 0.8662 - mse: 1.2451 - val_loss: 1.2115 - val_mae: 0.8495 - val_mse: 1.2115\n"
     ]
    },
    {
     "data": {
      "text/plain": [
       "<tensorflow.python.keras.callbacks.History at 0x7fc849d6de10>"
      ]
     },
     "execution_count": 10,
     "metadata": {},
     "output_type": "execute_result"
    }
   ],
   "source": [
    "model.fit(x_train, y_train, epochs=10, validation_split=0.1)\n"
   ]
  },
  {
   "cell_type": "code",
   "execution_count": 11,
   "metadata": {},
   "outputs": [],
   "source": [
    "num_examples = 10\n",
    "predictions = model.predict(x_test[:num_examples])\n",
    "\n"
   ]
  },
  {
   "cell_type": "code",
   "execution_count": 12,
   "metadata": {},
   "outputs": [
    {
     "name": "stdout",
     "output_type": "stream",
     "text": [
      "Predicted val:  7.0532465\n",
      "Actual val:  8.24969784404\n",
      "\n",
      "Predicted val:  8.297029\n",
      "Actual val:  7.3744626639\n",
      "\n",
      "Predicted val:  8.078236\n",
      "Actual val:  9.7775013197\n",
      "\n",
      "Predicted val:  6.9599485\n",
      "Actual val:  6.87401332916\n",
      "\n",
      "Predicted val:  7.5341306\n",
      "Actual val:  6.3118345610599995\n",
      "\n",
      "Predicted val:  7.314255\n",
      "Actual val:  7.50012615324\n",
      "\n",
      "Predicted val:  7.8596883\n",
      "Actual val:  7.84184265934\n",
      "\n",
      "Predicted val:  5.98059\n",
      "Actual val:  5.5997414548\n",
      "\n",
      "Predicted val:  7.5318003\n",
      "Actual val:  6.93794738514\n",
      "\n",
      "Predicted val:  7.853184\n",
      "Actual val:  8.68841774542\n",
      "\n"
     ]
    }
   ],
   "source": [
    "for i in range(num_examples):\n",
    "    print('Predicted val: ', predictions[i][0])\n",
    "    print('Actual val: ',y_test.iloc[i])\n",
    "    print()\n",
    "\n"
   ]
  },
  {
   "cell_type": "code",
   "execution_count": null,
   "metadata": {},
   "outputs": [],
   "source": []
  }
 ],
 "metadata": {
  "environment": {
   "name": "tf2-2-3-gpu.2-3.m58",
   "type": "gcloud",
   "uri": "gcr.io/deeplearning-platform-release/tf2-2-3-gpu.2-3:m58"
  },
  "kernelspec": {
   "display_name": "Python 3",
   "language": "python",
   "name": "python3"
  },
  "language_info": {
   "codemirror_mode": {
    "name": "ipython",
    "version": 3
   },
   "file_extension": ".py",
   "mimetype": "text/x-python",
   "name": "python",
   "nbconvert_exporter": "python",
   "pygments_lexer": "ipython3",
   "version": "3.7.8"
  }
 },
 "nbformat": 4,
 "nbformat_minor": 4
}
